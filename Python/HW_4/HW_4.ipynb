{
 "cells": [
  {
   "cell_type": "markdown",
   "metadata": {
    "id": "Q-6dKSL68Yba"
   },
   "source": [
    "##Домашнее задание к лекции \"Функции\"\n",
    "Вам нужно помочь секретарю автоматизировать работу. Для этого нужно написать программу, которая будет на основе хранимых данных исполнять пользовательские команды.\n",
    "\n",
    "Исходные данные имеют следующую структуру:\n",
    "1. перечень всех документов\n",
    "```\n",
    "documents = [\n",
    " {'type': 'passport', 'number': '2207 876234', 'name': 'Василий Гупкин'},\n",
    " {'type': 'invoice', 'number': '11-2', 'name': 'Геннадий Покемонов'},\n",
    " {'type': 'insurance', 'number': '10006', 'name': 'Аристарх Павлов'}\n",
    "]\n",
    "```\n",
    "2. перечень полок, на которых хранятся документы (если документ есть в documents, то он обязательно должен быть и в directories)\n",
    "```\n",
    "directories = {\n",
    " '1': ['2207 876234', '11-2'],\n",
    " '2': ['10006'],\n",
    " '3': []\n",
    "}\n",
    "```\n",
    "Общие требования к программе:\n",
    "\n",
    "* код должен быть грамотно декомпозирован (каждая функция отвечает за свою конкретную задачу, дублирующийся функционал переиспользуется, а его код не повторяется);\n",
    "* в коде отсутствуют глобальные переменные (за исключением documents и directories);\n",
    "* пользовательский ввод обрабатывается в цикле while до тех пор, пока пользователь явно не завершит программу (вводом команды \"q\")."
   ]
  },
  {
   "cell_type": "markdown",
   "metadata": {
    "id": "Nm0Tc3E3lFkq"
   },
   "source": [
    "# Задание 1"
   ]
  },
  {
   "cell_type": "code",
   "execution_count": 25,
   "metadata": {
    "executionInfo": {
     "elapsed": 283,
     "status": "ok",
     "timestamp": 1625987013318,
     "user": {
      "displayName": "Сергей Ощепков",
      "photoUrl": "",
      "userId": "03441214959068953559"
     },
     "user_tz": -240
    },
    "id": "s3x9Q3j275IX"
   },
   "outputs": [],
   "source": [
    "documents = [\n",
    " {'type': 'passport', 'number': '2207 876234', 'name': 'Василий Гупкин'},\n",
    " {'type': 'invoice', 'number': '11-2', 'name': 'Геннадий Покемонов'},\n",
    " {'type': 'insurance', 'number': '10006', 'name': 'Аристарх Павлов'}\n",
    "]\n",
    "global documents\n",
    "directories = {\n",
    " '1': ['2207 876234', '11-2'],\n",
    " '2': ['10006'],\n",
    " '3': []\n",
    "}\n",
    "global directories\n"
   ]
  },
  {
   "cell_type": "markdown",
   "metadata": {
    "id": "pWcHTYQK795l"
   },
   "source": [
    "**Пункт 1.** Пользователь по команде \"p\" может узнать владельца документа по его номеру"
   ]
  },
  {
   "cell_type": "code",
   "execution_count": 26,
   "metadata": {
    "executionInfo": {
     "elapsed": 28,
     "status": "ok",
     "timestamp": 1625987013758,
     "user": {
      "displayName": "Сергей Ощепков",
      "photoUrl": "",
      "userId": "03441214959068953559"
     },
     "user_tz": -240
    },
    "id": "drBARKkDXi9-"
   },
   "outputs": [],
   "source": [
    "def p(num_doc):\n",
    "    \"\"\"\n",
    "    function returns 'name' by its 'number'\n",
    "    \"\"\"\n",
    "    result = 'Документ не найден в базе'\n",
    "    for el in documents:\n",
    "        if el['number'] == num_doc:\n",
    "            result = el['name']\n",
    "            break #suppose the 'number' is unique\n",
    "    return result\n"
   ]
  },
  {
   "cell_type": "markdown",
   "metadata": {
    "id": "N-Ket1bjk7lY"
   },
   "source": [
    "**Пункт 2.** Пользователь по команде \"s\" может по номеру документа узнать на какой полке он хранится"
   ]
  },
  {
   "cell_type": "code",
   "execution_count": 27,
   "metadata": {
    "executionInfo": {
     "elapsed": 28,
     "status": "ok",
     "timestamp": 1625987013760,
     "user": {
      "displayName": "Сергей Ощепков",
      "photoUrl": "",
      "userId": "03441214959068953559"
     },
     "user_tz": -240
    },
    "id": "WhQ7NxZmk_fX"
   },
   "outputs": [],
   "source": [
    "def s(num_doc):\n",
    "    \"\"\"\n",
    "    function returns 'key' of directories by its 'num_doc'\n",
    "    \"\"\"\n",
    "    result = 'Документ не найден в базе'\n",
    "    for key, value in directories.items():\n",
    "        if num_doc in value:\n",
    "            result = key\n",
    "    return result        \n"
   ]
  },
  {
   "cell_type": "markdown",
   "metadata": {
    "id": "Vm4uj413rL8b"
   },
   "source": [
    "**Пункт 3.** Пользователь по команде \"l\" может увидеть полную информацию по всем документам"
   ]
  },
  {
   "cell_type": "code",
   "execution_count": 28,
   "metadata": {
    "executionInfo": {
     "elapsed": 29,
     "status": "ok",
     "timestamp": 1625987013762,
     "user": {
      "displayName": "Сергей Ощепков",
      "photoUrl": "",
      "userId": "03441214959068953559"
     },
     "user_tz": -240
    },
    "id": "6rRu--UcrQBU"
   },
   "outputs": [],
   "source": [
    "def l():\n",
    "    \"\"\"\n",
    "    function view all\n",
    "    \"\"\"\n",
    "    result = []\n",
    "    for indx, el in enumerate(documents): # indx - для построчного вывода\n",
    "        result.append([f\"№: {el['number']}, тип: {el['type']}, владелец: {el['name']}, полка хранения: {s(el['number'])}\"])\n",
    "        print(result[indx])\n"
   ]
  },
  {
   "cell_type": "markdown",
   "metadata": {
    "id": "LwqDE9rcwf90"
   },
   "source": [
    "**Пункт 4.** Пользователь по команде \"ads\" может добавить новую полку"
   ]
  },
  {
   "cell_type": "code",
   "execution_count": 29,
   "metadata": {
    "executionInfo": {
     "elapsed": 28,
     "status": "ok",
     "timestamp": 1625987013763,
     "user": {
      "displayName": "Сергей Ощепков",
      "photoUrl": "",
      "userId": "03441214959068953559"
     },
     "user_tz": -240
    },
    "id": "AX2DNPcawmEM"
   },
   "outputs": [],
   "source": [
    "def ads(num_dir):\n",
    "    \"\"\"\n",
    "    function add key in directories\n",
    "    \"\"\"\n",
    "    result = 0\n",
    "    if str(num_dir) not in directories:\n",
    "        directories[str(num_dir)] = []\n",
    "        result = 1\n",
    "    return result\n"
   ]
  },
  {
   "cell_type": "markdown",
   "metadata": {
    "id": "prGYIgyYyZY3"
   },
   "source": [
    "**Пункт 5.** Пользователь по команде \"ds\" может удалить существующую полку из данных (только если она пустая)"
   ]
  },
  {
   "cell_type": "code",
   "execution_count": 30,
   "metadata": {
    "executionInfo": {
     "elapsed": 28,
     "status": "ok",
     "timestamp": 1625987013765,
     "user": {
      "displayName": "Сергей Ощепков",
      "photoUrl": "",
      "userId": "03441214959068953559"
     },
     "user_tz": -240
    },
    "id": "ylSmVgREyemr"
   },
   "outputs": [],
   "source": [
    "def ds(num_dir):\n",
    "    \"\"\"\n",
    "    function to drop element in directories\n",
    "    \"\"\"\n",
    "    result = 0\n",
    "    if (str(num_dir) not in directories.keys()):\n",
    "        result = 2\n",
    "    elif (directories.get(str(num_dir)) == []):\n",
    "        del(directories[str(num_dir)])\n",
    "        result = 1\n",
    "    return result\n"
   ]
  },
  {
   "cell_type": "markdown",
   "metadata": {
    "id": "UaGe_PWwE1W6"
   },
   "source": [
    "#Задание 2 (необязательное)\n",
    "Вам необходимо дополнить программу из задания 1 более продвинутыми командами."
   ]
  },
  {
   "cell_type": "markdown",
   "metadata": {
    "id": "Zz9v2z1dN_w0"
   },
   "source": [
    "**Пункт 1.** Пользователь по команде \"ad\" может добавить новый документ в данные"
   ]
  },
  {
   "cell_type": "code",
   "execution_count": 31,
   "metadata": {
    "executionInfo": {
     "elapsed": 28,
     "status": "ok",
     "timestamp": 1625987013766,
     "user": {
      "displayName": "Сергей Ощепков",
      "photoUrl": "",
      "userId": "03441214959068953559"
     },
     "user_tz": -240
    },
    "id": "7fBxHASfOBeo"
   },
   "outputs": [],
   "source": [
    "def ad(num_doc, type_doc, name, num_dir):\n",
    "    result = 0\n",
    "    if str(num_dir) in directories.keys():\n",
    "        directories[str(num_dir)] += [num_doc]\n",
    "        documents.append({'type': type_doc, 'number': num_doc, 'name': name})\n",
    "        result = 1\n",
    "    return result\n"
   ]
  },
  {
   "cell_type": "markdown",
   "metadata": {
    "id": "chxOCqt-mHJv"
   },
   "source": [
    "**Пункт 2**. Пользователь по команде \"d\" может удалить документ из данных"
   ]
  },
  {
   "cell_type": "code",
   "execution_count": 32,
   "metadata": {
    "executionInfo": {
     "elapsed": 30,
     "status": "ok",
     "timestamp": 1625987013770,
     "user": {
      "displayName": "Сергей Ощепков",
      "photoUrl": "",
      "userId": "03441214959068953559"
     },
     "user_tz": -240
    },
    "id": "7jnkQxO9mKSf"
   },
   "outputs": [],
   "source": [
    "def d(num_doc):\n",
    "    \"\"\"\n",
    "    function deleting documents\n",
    "    \"\"\"\n",
    "    for el in documents:\n",
    "        if el['number'] == num_doc:\n",
    "            documents.remove(el)\n",
    "            directories[s(num_doc)].remove(num_doc)\n",
    "            break\n"
   ]
  },
  {
   "cell_type": "markdown",
   "metadata": {
    "id": "huw-sp-UvdPg"
   },
   "source": [
    "**Пункт 3**. Пользователь по команде \"m\" может переместить документ с полки на полку"
   ]
  },
  {
   "cell_type": "code",
   "execution_count": 33,
   "metadata": {
    "executionInfo": {
     "elapsed": 31,
     "status": "ok",
     "timestamp": 1625987013772,
     "user": {
      "displayName": "Сергей Ощепков",
      "photoUrl": "",
      "userId": "03441214959068953559"
     },
     "user_tz": -240
    },
    "id": "Rhpvu10W3Fqf"
   },
   "outputs": [],
   "source": [
    "def t(num_doc):\n",
    "    \"\"\"\n",
    "    type inference function (auxiliary)\n",
    "    \"\"\"\n",
    "    for el in documents:\n",
    "        if el['number'] == num_doc:\n",
    "            result = el['type']\n",
    "            break\n",
    "    return result"
   ]
  },
  {
   "cell_type": "markdown",
   "metadata": {
    "id": "_GtT2CSKvHIk"
   },
   "source": [
    "**Пункт 3.** Пользователь по команде \"m\" может переместить документ с полки на полку"
   ]
  },
  {
   "cell_type": "code",
   "execution_count": 34,
   "metadata": {
    "executionInfo": {
     "elapsed": 30,
     "status": "ok",
     "timestamp": 1625987013773,
     "user": {
      "displayName": "Сергей Ощепков",
      "photoUrl": "",
      "userId": "03441214959068953559"
     },
     "user_tz": -240
    },
    "id": "JWwohnCGvcnw"
   },
   "outputs": [],
   "source": [
    "def m(num_doc, num_dir):\n",
    "    \"\"\"\n",
    "    function moving documents\n",
    "    \"\"\"\n",
    "    if num_dir not in directories.keys():\n",
    "        result = 0\n",
    "    elif num_doc not in sum(directories.values(), []): #Разглаживание списка\n",
    "        result = 1\n",
    "    else:\n",
    "        result = 2\n",
    "        type_doc = t(num_doc)\n",
    "        name = p(num_doc)\n",
    "        d(num_doc)\n",
    "        ad(num_doc, type_doc, name, num_dir)\n",
    "    return result\n"
   ]
  },
  {
   "cell_type": "code",
   "execution_count": 35,
   "metadata": {
    "executionInfo": {
     "elapsed": 310,
     "status": "ok",
     "timestamp": 1625987014054,
     "user": {
      "displayName": "Сергей Ощепков",
      "photoUrl": "",
      "userId": "03441214959068953559"
     },
     "user_tz": -240
    },
    "id": "5LiZ6w2M4Job"
   },
   "outputs": [],
   "source": [
    "def main():\n",
    "    \"\"\"\n",
    "    base command - p, s, ads, ds, l, q\n",
    "    add. command - d, ad, m, t\n",
    "    \"\"\"\n",
    "    command = ''\n",
    "    while command !='q':\n",
    "        command = input('Введите команду:')\n",
    "#-------------------------------------------------------------------------------        \n",
    "        if command == 'p':\n",
    "            num_doc = input('Введите номер документа:')\n",
    "            print(p(num_doc))\n",
    "#-------------------------------------------------------------------------------            \n",
    "        elif command == 's':\n",
    "            num_doc = input('Введите номер документа:')\n",
    "            result = s(num_doc)\n",
    "            if result == 'Документ не найден в базе':\n",
    "                print(result)\n",
    "            else:\n",
    "                print('Документ хранится на полке:', result)\n",
    "#-------------------------------------------------------------------------------                \n",
    "        elif command == 'l':\n",
    "            l()\n",
    "#-------------------------------------------------------------------------------            \n",
    "        elif command == 'ads':\n",
    "            num_dir = int(input('Введите номер полки:'))\n",
    "            result = ads(num_dir)\n",
    "            if result == 1:\n",
    "                print('Полка добавлена. Текущий перечень полок: ', list(directories.keys()))\n",
    "            elif result == 0:\n",
    "                print('Такая полка уже существует. Текущий перечень полок:', list(directories.keys()))\n",
    "#-------------------------------------------------------------------------------                \n",
    "        elif command == 'ds':\n",
    "            num_dir = input('Введите номер полки:')\n",
    "            result = ds(num_dir)\n",
    "            if result == 1:\n",
    "                print('Полка удалена. Текущий перечень полок:', list(directories.keys()))\n",
    "            elif result == 2:\n",
    "                print('Такой полки не существует. Текущий перечень полок: ', list(directories.keys()))\n",
    "            elif result == 0:\n",
    "                print('На полке есть документы, удалите их перед удалением полки. Текущий перечень полок:', list(directories.keys()))\n",
    "#-------------------------------------------------------------------------------            \n",
    "        elif command == 'ad':\n",
    "            num_doc = input('Введите номер документа:')\n",
    "            type_doc = input('Введите тип документа:') \n",
    "            name = input('Введите владельца документа:')\n",
    "            num_dir = input('Введите полку для хранения:')\n",
    "            result = ad(num_doc, type_doc, name, num_dir)\n",
    "            if result == 0:\n",
    "                print('Такой полки не существует. Добавьте полку командой ads.')\n",
    "                print('Текущий список документов:')\n",
    "            elif result == 1:\n",
    "                print('Документ добавлен. Текущий список документов:')\n",
    "            l()\n",
    "#-------------------------------------------------------------------------------                \n",
    "        elif command == 'd':\n",
    "            num_doc = input('Введите номер документа:')\n",
    "            if s(num_doc) == 'Документ не найден в базе':\n",
    "                print('Документ не найден в базе.')\n",
    "            else:\n",
    "                d(num_doc)\n",
    "                print('Документ удален.')\n",
    "            print('Текущий список документов:')\n",
    "            l()\n",
    "#-------------------------------------------------------------------------------            \n",
    "        elif command == 'm':\n",
    "            num_doc = input('Введите номер документа:')\n",
    "            num_dir = input('Введите номер полки:')\n",
    "            result = m(num_doc, num_dir)\n",
    "            if result == 0:\n",
    "                print('Такой полки не существует. Текущий перечень полок:', list(directories.keys()))\n",
    "            elif result ==1:\n",
    "                print('Документ не найден в базе.')\n",
    "                print('Текущий список документов:')\n",
    "                l()\n",
    "            elif result == 2:\n",
    "                print('Документ перемещен.')\n",
    "                print('Текущий список документов:')\n",
    "                l()\n",
    "    return\n"
   ]
  },
  {
   "cell_type": "code",
   "execution_count": 36,
   "metadata": {
    "colab": {
     "base_uri": "https://localhost:8080/"
    },
    "executionInfo": {
     "elapsed": 39354,
     "status": "ok",
     "timestamp": 1625987053386,
     "user": {
      "displayName": "Сергей Ощепков",
      "photoUrl": "",
      "userId": "03441214959068953559"
     },
     "user_tz": -240
    },
    "id": "7MTGEJTx4M-T",
    "outputId": "7acb2df5-1760-4cab-a7a7-e563d14446ba"
   },
   "outputs": [
    {
     "name": "stdout",
     "output_type": "stream",
     "text": [
      "Введите команду:p\n",
      "Введите номер документа:11-2\n",
      "Геннадий Покемонов\n",
      "Введите команду:s\n",
      "Введите номер документа:11-2\n",
      "Документ хранится на полке: 1\n",
      "Введите команду:s\n",
      "Введите номер документа:2122\n",
      "Документ не найден в базе\n",
      "Введите команду:q\n"
     ]
    }
   ],
   "source": [
    "main()\n",
    "# base command - p, s, ads, ds, l, q\n",
    "# add. command - d, ad, m, t\n"
   ]
  }
 ],
 "metadata": {
  "colab": {
   "authorship_tag": "ABX9TyOnybv3G3aurK6ZqSOlIEW1",
   "collapsed_sections": [],
   "name": "HW_4.ipynb",
   "provenance": []
  },
  "kernelspec": {
   "display_name": "Python 3",
   "language": "python",
   "name": "python3"
  },
  "language_info": {
   "codemirror_mode": {
    "name": "ipython",
    "version": 3
   },
   "file_extension": ".py",
   "mimetype": "text/x-python",
   "name": "python",
   "nbconvert_exporter": "python",
   "pygments_lexer": "ipython3",
   "version": "3.8.8"
  }
 },
 "nbformat": 4,
 "nbformat_minor": 1
}
